{
 "cells": [
  {
   "cell_type": "code",
   "execution_count": 12,
   "metadata": {},
   "outputs": [],
   "source": [
    "import pandas as pd\n",
    "import numpy as np\n",
    "import glob\n",
    "import os\n",
    "from tqdm import tqdm\n",
    "from catboost import CatBoostRegressor, Pool, EShapCalcType, EFeaturesSelectionAlgorithm\n",
    "from sklearn.model_selection import train_test_split"
   ]
  },
  {
   "cell_type": "code",
   "execution_count": 15,
   "metadata": {},
   "outputs": [],
   "source": [
    "def create_features(seg_id, seg, X):\n",
    "    xc = pd.Series(seg['acoustic_data'].values)\n",
    "    zc = np.fft.fft(xc)\n",
    "    \n",
    "    X.loc[seg_id, 'mean'] = xc.mean()\n",
    "    X.loc[seg_id, 'std'] = xc.std()\n",
    "    X.loc[seg_id, 'max'] = xc.max()\n",
    "    X.loc[seg_id, 'min'] = xc.min()"
   ]
  },
  {
   "cell_type": "code",
   "execution_count": 16,
   "metadata": {},
   "outputs": [
    {
     "name": "stderr",
     "output_type": "stream",
     "text": [
      "100%|██████████| 2624/2624 [01:16<00:00, 34.17it/s]\n"
     ]
    }
   ],
   "source": [
    "submission = pd.read_csv('LANL-Earthquake-Prediction/sample_submission.csv')\n",
    "submission.shape\n",
    "\n",
    "X_test = pd.DataFrame(index=range(submission.shape[0]), dtype=np.float32)\n",
    "\n",
    "# Load files located in the test directory\n",
    "test_files = glob.glob(os.path.join('LANL-Earthquake-Prediction/test', '*_*.*'))\n",
    "\n",
    "# Feature engineering for the test set\n",
    "# Iterate over all files in the test directory and\n",
    "# create the test dataframe with new features\n",
    "all_test_files = len(test_files)\n",
    "#all_test_files =600\n",
    "for seg_id in tqdm(range(all_test_files)):\n",
    "    seg = pd.read_csv(test_files[seg_id])\n",
    "    create_features(seg_id, seg, X_test)"
   ]
  },
  {
   "cell_type": "code",
   "execution_count": 24,
   "metadata": {},
   "outputs": [
    {
     "name": "stdout",
     "output_type": "stream",
     "text": [
      "0:\tlearn: 756.6505426\ttotal: 636us\tremaining: 636us\n",
      "1:\tlearn: 756.1128236\ttotal: 1.23ms\tremaining: 0us\n"
     ]
    }
   ],
   "source": [
    "model = CatBoostRegressor(iterations=2,\n",
    "                          learning_rate=1,\n",
    "                          depth=2)\n",
    "train_labels = list(range(len(X_test)))\n",
    "# Fit model\n",
    "model.fit(X_test, train_labels)\n",
    "# Get predictions\n",
    "preds = model.predict(X_test)"
   ]
  },
  {
   "cell_type": "code",
   "execution_count": 25,
   "metadata": {},
   "outputs": [
    {
     "data": {
      "text/plain": [
       "array([1328.60085383, 1328.60085383, 1328.60085383, ..., 1252.04388484,\n",
       "       1328.60085383, 1328.60085383])"
      ]
     },
     "execution_count": 25,
     "metadata": {},
     "output_type": "execute_result"
    }
   ],
   "source": [
    "preds"
   ]
  },
  {
   "cell_type": "code",
   "execution_count": null,
   "metadata": {},
   "outputs": [],
   "source": []
  }
 ],
 "metadata": {
  "interpreter": {
   "hash": "77eae0d149ba61c2d600661d89f90b4aa2630fec4556ce7a67e67a981106c5c1"
  },
  "kernelspec": {
   "display_name": "Python 3.9.7 64-bit",
   "language": "python",
   "name": "python3"
  },
  "language_info": {
   "codemirror_mode": {
    "name": "ipython",
    "version": 3
   },
   "file_extension": ".py",
   "mimetype": "text/x-python",
   "name": "python",
   "nbconvert_exporter": "python",
   "pygments_lexer": "ipython3",
   "version": "3.9.7"
  },
  "orig_nbformat": 4
 },
 "nbformat": 4,
 "nbformat_minor": 2
}
